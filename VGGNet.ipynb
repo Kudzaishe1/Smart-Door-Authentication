{
 "cells": [
  {
   "cell_type": "code",
   "execution_count": null,
   "metadata": {
    "colab": {},
    "colab_type": "code",
    "id": "F0jd75ISSdqR"
   },
   "outputs": [],
   "source": [
    "import tensorflow as tf\n",
    "from tensorflow import keras\n",
    "from tensorflow.keras.models import Sequential, load_model\n",
    "from tensorflow.keras.layers import *\n",
    "from tensorflow.keras import Model\n",
    "from tensorflow.keras import regularizers\n",
    "from tensorflow.keras.utils import plot_model\n",
    "\n",
    "import random\n",
    "import os\n",
    "import numpy as np\n",
    "import matplotlib.pyplot as plt\n",
    "import cv2\n",
    "\n",
    "#Import"
   ]
  },
  {
   "cell_type": "code",
   "execution_count": null,
   "metadata": {
    "colab": {
     "base_uri": "https://localhost:8080/"
    },
    "colab_type": "code",
    "id": "E1dhbXjfTOV1",
    "outputId": "ff86cc86-ce55-4e23-9f06-71858bf68292"
   },
   "outputs": [],
   "source": [
    "#set the file path and read the image from the google drive\n",
    "filepath = \"Dataset\"\n",
    "person = [\"Jinwei\",\"Lwando\"]\n",
    "\n",
    "training_data = []\n",
    "\n",
    "for pee in person:\n",
    "    path = os.path.join(filepath,pee)\n",
    "    class_num = person.index(pee)\n",
    "    for img in os.listdir(path):\n",
    "        try:\n",
    "            imag_array = cv2.imread(os.path.join(path,img), cv2.IMREAD_GRAYSCALE)\n",
    "            imag_array = cv2.blur(imag_array,(5,5))\n",
    "            new_array = cv2.resize(imag_array, (200,200))\n",
    "            training_data.append([new_array,class_num])\n",
    "        except Exception as e:\n",
    "            pass"
   ]
  },
  {
   "cell_type": "code",
   "execution_count": null,
   "metadata": {
    "colab": {
     "base_uri": "https://localhost:8080/",
     "height": 34
    },
    "colab_type": "code",
    "id": "OQ4BXDWYTOaL",
    "outputId": "bf5710c8-6f32-49b8-9f6c-8e016c9057c8"
   },
   "outputs": [],
   "source": [
    "print(len(training_data))# number of trainingimages"
   ]
  },
  {
   "cell_type": "code",
   "execution_count": null,
   "metadata": {
    "colab": {
     "base_uri": "https://localhost:8080/",
     "height": 303
    },
    "colab_type": "code",
    "id": "Gg10n3cjTOeQ",
    "outputId": "5d301782-aee6-4f7c-fcf9-6514b1d4e819"
   },
   "outputs": [],
   "source": [
    "print(training_data[5][0].shape)\n",
    "\n",
    "plt.imshow(training_data[0][0])"
   ]
  },
  {
   "cell_type": "code",
   "execution_count": null,
   "metadata": {
    "colab": {},
    "colab_type": "code",
    "id": "AKTedWkoTOh6"
   },
   "outputs": [],
   "source": [
    "random.shuffle(training_data) \n",
    "#shuffle training data and np arrau convertsion \n",
    "\n",
    "X = []\n",
    "Y = []\n",
    "\n",
    "\n",
    "for features, label in training_data:\n",
    "    X.append(features)\n",
    "    Y.append(label)\n",
    "X = np.array(X).reshape(-1,200,200,1)\n",
    "Y = np.array(Y) "
   ]
  },
  {
   "cell_type": "code",
   "execution_count": null,
   "metadata": {
    "colab": {
     "base_uri": "https://localhost:8080/",
     "height": 629
    },
    "colab_type": "code",
    "id": "zcsHtWDj9WBg",
    "outputId": "77bda380-9402-45ef-abbf-91e4d5ef864a"
   },
   "outputs": [],
   "source": [
    "#VGG model \n",
    "\n",
    "Input_shape = 200, 200, 1\n",
    "\n",
    "model = Sequential()\n",
    "\n",
    "model.add(Convolution2D(64, 3, padding= \"same\", input_shape = Input_shape, activation='relu'))\n",
    "model.add(Convolution2D(64, 3, padding= \"same\", activation='relu'))\n",
    "model.add(MaxPool2D(2, strides= 2, padding='same'))\n",
    "\n",
    "model.add(Convolution2D(128, 3, padding= \"same\", activation='relu'))\n",
    "model.add(Convolution2D(128, 3, padding= \"same\", activation='relu'))\n",
    "model.add(MaxPool2D(2, strides= 2, padding='same'))\n",
    "\n",
    "model.add(Convolution2D(256, 3, padding= \"same\", activation='relu'))\n",
    "model.add(Convolution2D(256, 3, padding= \"same\", activation='relu'))\n",
    "model.add(MaxPool2D(2, strides= 2, padding='same'))\n",
    "\n",
    "model.add(Convolution2D(512, 3, padding= \"same\", activation='relu'))\n",
    "model.add(Convolution2D(512, 3, padding= \"same\", activation='relu'))\n",
    "model.add(MaxPool2D(2, strides= 2, padding='same'))\n",
    "\n",
    "\n",
    "model.add(Flatten())\n",
    "\n",
    "model.add(Dense(2, activation= 'softmax'))\n",
    "\n",
    "model.summary()\n",
    "\n",
    "model.compile(optimizer='adam', loss= 'binary_crossentropy', metrics= ['accuracy'])"
   ]
  },
  {
   "cell_type": "code",
   "execution_count": null,
   "metadata": {
    "colab": {
     "base_uri": "https://localhost:8080/",
     "height": 187
    },
    "colab_type": "code",
    "id": "mgG7kxeU9WNz",
    "outputId": "1fa9f065-e531-4656-f812-66dcfa3da05c"
   },
   "outputs": [],
   "source": [
    "history = model.fit(X, Y, epochs= 5, verbose=1)"
   ]
  },
  {
   "cell_type": "code",
   "execution_count": null,
   "metadata": {
    "colab": {
     "base_uri": "https://localhost:8080/",
     "height": 295
    },
    "colab_type": "code",
    "id": "ySqrRkQ1V-OU",
    "outputId": "b7a5d6f9-3564-4735-e764-4adf236fcd9a"
   },
   "outputs": [],
   "source": [
    "plt.plot(history.history['accuracy'])\n",
    "plt.title('model accuracy')\n",
    "plt.ylabel('accuracy')\n",
    "plt.xlabel('epoch')\n",
    "plt.legend(['train'], loc='upper left')\n",
    "plt.show()"
   ]
  },
  {
   "cell_type": "code",
   "execution_count": null,
   "metadata": {
    "colab": {
     "base_uri": "https://localhost:8080/",
     "height": 295
    },
    "colab_type": "code",
    "id": "AT5VHIaxhL0s",
    "outputId": "4eaa349e-2544-4427-9eb3-1f23667908e8"
   },
   "outputs": [],
   "source": [
    "plt.plot(history.history['loss'])\n",
    "plt.title('model loss')\n",
    "plt.ylabel('loss')\n",
    "plt.xlabel('epoch')\n",
    "plt.legend(['train'], loc='upper left')\n",
    "plt.show()"
   ]
  }
 ],
 "metadata": {
  "colab": {
   "name": "Smartdoor.ipynb",
   "provenance": []
  },
  "kernelspec": {
   "display_name": "Python 3",
   "language": "python",
   "name": "python3"
  },
  "language_info": {
   "codemirror_mode": {
    "name": "ipython",
    "version": 3
   },
   "file_extension": ".py",
   "mimetype": "text/x-python",
   "name": "python",
   "nbconvert_exporter": "python",
   "pygments_lexer": "ipython3",
   "version": "3.7.7"
  }
 },
 "nbformat": 4,
 "nbformat_minor": 1
}
