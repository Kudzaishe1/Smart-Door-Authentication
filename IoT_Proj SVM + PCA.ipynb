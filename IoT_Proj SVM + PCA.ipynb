{
 "cells": [
  {
   "cell_type": "markdown",
   "metadata": {},
   "source": [
    "#  Setting the face image data path"
   ]
  },
  {
   "cell_type": "code",
   "execution_count": null,
   "metadata": {
    "colab": {},
    "colab_type": "code",
    "id": "n_MUziHIrL1w"
   },
   "outputs": [],
   "source": [
    "IMAGE_PATH = \"Dataset/\"\n",
    "IMAGE_LABELS = [\"Jinwei/*.jpg\",\"Lwando/*.jpg\"]"
   ]
  },
  {
   "cell_type": "markdown",
   "metadata": {},
   "source": [
    "# Importing the required Libraries"
   ]
  },
  {
   "cell_type": "code",
   "execution_count": null,
   "metadata": {
    "colab": {},
    "colab_type": "code",
    "id": "uIyrlCeYrM6B"
   },
   "outputs": [],
   "source": [
    "import cv2\n",
    "import numpy as np\n",
    "import glob\n",
    "import matplotlib.pyplot as plt"
   ]
  },
  {
   "cell_type": "markdown",
   "metadata": {},
   "source": [
    "# Opening the images from the directory"
   ]
  },
  {
   "cell_type": "code",
   "execution_count": null,
   "metadata": {
    "colab": {},
    "colab_type": "code",
    "id": "o_wWm6olrW2w"
   },
   "outputs": [],
   "source": [
    "TRAINING_DATA = []\n",
    "for y,x in enumerate(IMAGE_LABELS):\n",
    "    for image in glob.glob(IMAGE_PATH+x):\n",
    "        img = cv2.imread(image)\n",
    "        img = cv2.resize(img,(20,20))\n",
    "        img = cv2.cvtColor(img,cv2.COLOR_BGR2GRAY) #converting the images to greyscale\n",
    "        img = cv2.blur(img,(5,5)) #blurring the images using a 5x5 kernel\n",
    "        img = img.flatten()\n",
    "        TRAINING_DATA.append([img,y])"
   ]
  },
  {
   "cell_type": "code",
   "execution_count": null,
   "metadata": {
    "colab": {},
    "colab_type": "code",
    "id": "-M-dIkQfuEVM"
   },
   "outputs": [],
   "source": [
    "TRAINING_DATA = np.array(TRAINING_DATA)\n",
    "np.random.shuffle(TRAINING_DATA) #shuffling the data"
   ]
  },
  {
   "cell_type": "markdown",
   "metadata": {},
   "source": [
    "# Splitting the data into X and Y subsets "
   ]
  },
  {
   "cell_type": "code",
   "execution_count": null,
   "metadata": {
    "colab": {},
    "colab_type": "code",
    "id": "oNLv_us-uOeQ"
   },
   "outputs": [],
   "source": [
    "TRAIN_X =[]\n",
    "TRAIN_Y =[]\n",
    "for i in TRAINING_DATA:\n",
    "    TRAIN_X.append(i[0])\n",
    "    TRAIN_Y.append(i[1])\n",
    "\n",
    "TRAIN_X = np.array(TRAIN_X,dtype=np.float32)\n",
    "TRAIN_Y = np.array(TRAIN_Y)"
   ]
  },
  {
   "cell_type": "markdown",
   "metadata": {},
   "source": [
    "# Configuring DImensionality reduction"
   ]
  },
  {
   "cell_type": "code",
   "execution_count": null,
   "metadata": {},
   "outputs": [],
   "source": [
    "from sklearn.decomposition import PCA\n",
    "\n",
    "pca = PCA(n_components=10) # Setting up the Principal Component Analysis to 10 components\n",
    "TRAIN_X = pca.fit_transform(TRAIN_X) # Transforming the Dataset"
   ]
  },
  {
   "cell_type": "markdown",
   "metadata": {},
   "source": [
    "# Splitting the dataset"
   ]
  },
  {
   "cell_type": "code",
   "execution_count": null,
   "metadata": {
    "colab": {},
    "colab_type": "code",
    "id": "tLgKYIPOsbPE"
   },
   "outputs": [],
   "source": [
    "from sklearn.model_selection import train_test_split\n",
    "\n",
    "TRAIN_X, TEST_X, TRAIN_Y, TEST_Y = train_test_split(TRAIN_X, TRAIN_Y, test_size=0.20, random_state=2) #creting a train and validation split using sklearn"
   ]
  },
  {
   "cell_type": "markdown",
   "metadata": {},
   "source": [
    "# Configuring the model"
   ]
  },
  {
   "cell_type": "code",
   "execution_count": null,
   "metadata": {
    "colab": {
     "base_uri": "https://localhost:8080/",
     "height": 34
    },
    "colab_type": "code",
    "id": "yqCVgy9l0V9T",
    "outputId": "cdbb0b5c-a4cd-41d0-cc97-a83eea21f1ed"
   },
   "outputs": [],
   "source": [
    "from sklearn.svm import SVC\n",
    "\n",
    "clf = SVC(gamma='auto', verbose=1,class_weight='balanced', probability= True) #Configuring the classifier \n",
    "clf.fit(TRAIN_X,TRAIN_Y) #Training the model\n",
    "\n",
    "preds = clf.predict(TEST_X)"
   ]
  },
  {
   "cell_type": "markdown",
   "metadata": {},
   "source": [
    "# Results"
   ]
  },
  {
   "cell_type": "code",
   "execution_count": null,
   "metadata": {
    "colab": {
     "base_uri": "https://localhost:8080/",
     "height": 204
    },
    "colab_type": "code",
    "id": "KoSN_cVwuXIh",
    "outputId": "d2cd896a-e3ee-452c-98f3-fe0aab493f2b"
   },
   "outputs": [],
   "source": [
    "from sklearn.metrics import accuracy_score,f1_score, classification_report\n",
    "\n",
    "print(accuracy_score(preds,TEST_Y))\n",
    "print(f1_score(preds,TEST_Y))\n",
    "print(classification_report(preds,TEST_Y))"
   ]
  },
  {
   "cell_type": "code",
   "execution_count": null,
   "metadata": {
    "colab": {},
    "colab_type": "code",
    "id": "rZhbHpfGulOC"
   },
   "outputs": [],
   "source": []
  }
 ],
 "metadata": {
  "colab": {
   "collapsed_sections": [],
   "name": "IoT Proj SVM.ipynb",
   "provenance": []
  },
  "kernelspec": {
   "display_name": "Python 3",
   "language": "python",
   "name": "python3"
  },
  "language_info": {
   "codemirror_mode": {
    "name": "ipython",
    "version": 3
   },
   "file_extension": ".py",
   "mimetype": "text/x-python",
   "name": "python",
   "nbconvert_exporter": "python",
   "pygments_lexer": "ipython3",
   "version": "3.7.7"
  }
 },
 "nbformat": 4,
 "nbformat_minor": 1
}
