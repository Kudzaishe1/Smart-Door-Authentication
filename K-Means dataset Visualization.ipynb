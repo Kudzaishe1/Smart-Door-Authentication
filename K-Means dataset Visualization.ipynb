{
 "cells": [
  {
   "cell_type": "markdown",
   "metadata": {
    "colab_type": "text",
    "id": "wt_met1movFb"
   },
   "source": [
    "IMPORTING LIBRARIES "
   ]
  },
  {
   "cell_type": "code",
   "execution_count": null,
   "metadata": {
    "colab": {},
    "colab_type": "code",
    "id": "BL4vr3He8GLc"
   },
   "outputs": [],
   "source": [
    "import numpy as np\n",
    "import cv2\n",
    "import glob\n",
    "\n",
    "import matplotlib.pyplot as plt\n",
    "%matplotlib inline"
   ]
  },
  {
   "cell_type": "markdown",
   "metadata": {
    "colab_type": "text",
    "id": "VAPadndko3_F"
   },
   "source": [
    "SETTING THE PATH FOR THE DATASET"
   ]
  },
  {
   "cell_type": "code",
   "execution_count": null,
   "metadata": {
    "colab": {},
    "colab_type": "code",
    "id": "hgojdgNK8GLp"
   },
   "outputs": [],
   "source": [
    "IMAGE_PATH = \"Dataset/\"\n",
    "IMAGE_LABELS = [\"Jinwei/*.jpg\",\"Lwando/*.jpg\"]"
   ]
  },
  {
   "cell_type": "markdown",
   "metadata": {
    "colab_type": "text",
    "id": "TJa0lOSTo_yx"
   },
   "source": [
    "LOADING THE IMAGES"
   ]
  },
  {
   "cell_type": "code",
   "execution_count": null,
   "metadata": {
    "colab": {},
    "colab_type": "code",
    "id": "7gSuIxBi8GL0"
   },
   "outputs": [],
   "source": [
    "TRAINING_DATA = []\n",
    "IMG_SIZE = 100\n",
    "for x in IMAGE_LABELS:\n",
    "    for image in glob.glob(IMAGE_PATH+x):\n",
    "        img = cv2.imread(image)\n",
    "        img = cv2.cvtColor(img,cv2.COLOR_BGR2RGB)\n",
    "        img = cv2.resize(img,(IMG_SIZE,IMG_SIZE))\n",
    "        TRAINING_DATA.append([img])"
   ]
  },
  {
   "cell_type": "markdown",
   "metadata": {
    "colab_type": "text",
    "id": "_RJ_P67ZpXVD"
   },
   "source": [
    "PRINTING THE LENGTH OF THE TRAINING DATA"
   ]
  },
  {
   "cell_type": "code",
   "execution_count": null,
   "metadata": {
    "colab": {
     "base_uri": "https://localhost:8080/",
     "height": 34
    },
    "colab_type": "code",
    "id": "hAt31qKA8GMA",
    "outputId": "e5ac33cd-386a-4d9e-fafa-81b460c1fdbb"
   },
   "outputs": [],
   "source": [
    "print(len(TRAINING_DATA))"
   ]
  },
  {
   "cell_type": "code",
   "execution_count": null,
   "metadata": {
    "colab": {
     "base_uri": "https://localhost:8080/",
     "height": 285
    },
    "colab_type": "code",
    "id": "E6YnT5-N8GMI",
    "outputId": "9c5aa276-55ac-4c7b-e4dc-7017c6722a54"
   },
   "outputs": [],
   "source": [
    "plt.imshow(TRAINING_DATA[2][0])"
   ]
  },
  {
   "cell_type": "markdown",
   "metadata": {
    "colab_type": "text",
    "id": "F0WrtxeJpgqd"
   },
   "source": [
    "RESHAPPING THE NP ARRAY"
   ]
  },
  {
   "cell_type": "code",
   "execution_count": null,
   "metadata": {
    "colab": {
     "base_uri": "https://localhost:8080/",
     "height": 34
    },
    "colab_type": "code",
    "id": "WT7pdH4M8GMT",
    "outputId": "dd3d73d9-6910-4c40-9331-ef5d596cfa95"
   },
   "outputs": [],
   "source": [
    "TRAINING_DATA = np.array(TRAINING_DATA).reshape(-1,IMG_SIZE * IMG_SIZE)\n",
    "print(TRAINING_DATA.shape)\n",
    "np.random.shuffle(TRAINING_DATA)"
   ]
  },
  {
   "cell_type": "markdown",
   "metadata": {
    "colab_type": "text",
    "id": "L8WKU8D3reef"
   },
   "source": [
    "IMPORTING THE STANDARDSCALER FROM SKLEARN "
   ]
  },
  {
   "cell_type": "code",
   "execution_count": null,
   "metadata": {
    "colab": {},
    "colab_type": "code",
    "id": "ULNOk0Tp8GMb"
   },
   "outputs": [],
   "source": [
    "from sklearn.preprocessing import StandardScaler\n",
    "scaler = StandardScaler()\n",
    "TRAINING_DATA = scaler.fit_transform(TRAINING_DATA)"
   ]
  },
  {
   "cell_type": "code",
   "execution_count": null,
   "metadata": {
    "colab": {},
    "colab_type": "code",
    "id": "jnnSDn618GMo"
   },
   "outputs": [],
   "source": [
    "np.random.shuffle(TRAINING_DATA)"
   ]
  },
  {
   "cell_type": "markdown",
   "metadata": {
    "colab_type": "text",
    "id": "x-q5xjCTrmRv"
   },
   "source": [
    "IMPORTING THE KMeans CLUSTER"
   ]
  },
  {
   "cell_type": "code",
   "execution_count": null,
   "metadata": {
    "colab": {},
    "colab_type": "code",
    "id": "dIfdafl88GM8"
   },
   "outputs": [],
   "source": [
    "from sklearn.cluster import KMeans"
   ]
  },
  {
   "cell_type": "code",
   "execution_count": null,
   "metadata": {
    "colab": {},
    "colab_type": "code",
    "id": "wzQ4rlA18GRo"
   },
   "outputs": [],
   "source": [
    "kmeans = KMeans(init='k-means++',n_clusters=2, random_state=23).fit_predict(TRAINING_DATA)"
   ]
  },
  {
   "cell_type": "markdown",
   "metadata": {
    "colab_type": "text",
    "id": "BuUZEtGCrs5b"
   },
   "source": [
    "PLOTTING THE POINTS "
   ]
  },
  {
   "cell_type": "code",
   "execution_count": null,
   "metadata": {
    "colab": {
     "base_uri": "https://localhost:8080/",
     "height": 544
    },
    "colab_type": "code",
    "id": "bR_bMtcT8GR3",
    "outputId": "cfdae0f9-5ba2-4544-efba-d5da482937a0"
   },
   "outputs": [],
   "source": [
    "plt.figure(num=None, figsize=(18, 18), dpi=80, facecolor='w', edgecolor='k')\n",
    "plt.subplot(224)\n",
    "plt.scatter(TRAINING_DATA[:, 0], TRAINING_DATA[:, 1], c=kmeans)\n",
    "plt.show()"
   ]
  },
  {
   "cell_type": "code",
   "execution_count": null,
   "metadata": {
    "colab": {},
    "colab_type": "code",
    "id": "1bss5BiB8GSI"
   },
   "outputs": [],
   "source": []
  }
 ],
 "metadata": {
  "colab": {
   "collapsed_sections": [],
   "name": "MALARIA AND DR K-MEANS.ipynb",
   "provenance": []
  },
  "kernelspec": {
   "display_name": "Python 3",
   "language": "python",
   "name": "python3"
  },
  "language_info": {
   "codemirror_mode": {
    "name": "ipython",
    "version": 3
   },
   "file_extension": ".py",
   "mimetype": "text/x-python",
   "name": "python",
   "nbconvert_exporter": "python",
   "pygments_lexer": "ipython3",
   "version": "3.7.7"
  }
 },
 "nbformat": 4,
 "nbformat_minor": 1
}
